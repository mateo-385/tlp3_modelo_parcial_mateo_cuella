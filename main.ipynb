{
 "cells": [
  {
   "cell_type": "markdown",
   "id": "9fee5ee9",
   "metadata": {},
   "source": [
    "# Modelo de Examen Practico - TLP3 - Python para Ciencia de Datos.\n"
   ]
  },
  {
   "cell_type": "markdown",
   "id": "999099d0",
   "metadata": {},
   "source": [
    "**A partir del datasets brindado, realizar los siguientes procedimientos:**\n",
    "\n",
    "* Importar datasets con Pandas.\n",
    "* Explorar los datos con los metodos correspondientes. \n",
    "* Limpieza de los datos (Normalización de datos).\n",
    "* Obtener estadisticas.\n",
    "* Mostrar los datos procesados con graficos utilizando la libreria Matplotlib.\n",
    "* Exportar el contenido a un archivo sqlite utilizando PANDAS.\n",
    "\n",
    "\n",
    "**Importante: Se debe documentar cada procedimiento realizado, siguiendo la siguiente estructura:**\n",
    "\n",
    "1. Celda de Markdown (Documentación)\n",
    "2. Código (Sin comentarios, se debe documentar lo sufiente solo en la celda de markdown)."
   ]
  },
  {
   "cell_type": "markdown",
   "id": "dd91f969",
   "metadata": {},
   "source": [
    "## Actividades: \n",
    "### 1. Importación del Dataset con Pandas\n",
    "\n",
    "En esta sección, se debe utilizar la librería Pandas para cargar el archivo CSV que contiene los datos de las calificaciones en un DataFrame, que es la estructura de datos fundamental para el análisis con Pandas.\n",
    "\n",
    "### 2. Exploración Inicial de los Datos\n",
    "\n",
    "A continuación, se deben emplear métodos de Pandas para obtener una visión general del dataset. Esto incluye mostrar las primeras filas, obtener un resumen de la información del DataFrame (tipos de datos, valores no nulos), y calcular estadísticas descriptivas de las columnas numéricas.\n",
    "\n",
    "### 3. Limpieza y Normalización de los Datos\n",
    "\n",
    "Esta etapa crucial deben aplicar la corrección de diversos errores presentes en el dataset. Se abordarán los valores faltantes, la inconsistencia en el formato de la columna 'Asistencia', los posibles valores atípicos y la normalización de los nombres de estudiantes y materias a un formato consistente (por ejemplo, capitalización).\n",
    "\n",
    "### 4. Obtención de Estadísticas Descriptivas\n",
    "\n",
    "Después de la limpieza, deben calcular nuevamente las estadísticas descriptivas para observar el impacto del proceso de limpieza en los datos numéricos. También se pueden calcular estadísticas específicas por grupo (por ejemplo, promedio de calificaciones por materia).\n",
    "\n",
    "### 5. Visualización de los Datos con Matplotlib\n",
    "\n",
    "En esta sección, deben utilizar la librería Matplotlib para crear visualizaciones que permitan comprender mejor la distribución de las calificaciones y la asistencia. Se generarán histogramas, diagramas de dispersión y gráficos de barras.\n",
    "\n",
    "### 6. Exportación a Archivo SQLite\n",
    "\n",
    "Finalmente, deben utilizar la funcionalidad de Pandas para guardar el DataFrame procesado en una base de datos SQLite. Esto permite almacenar los datos de forma estructurada para su posterior consulta y uso.\n",
    "\n"
   ]
  },
  {
   "cell_type": "markdown",
   "id": "25fb94d5",
   "metadata": {},
   "source": [
    "## Importaciones"
   ]
  },
  {
   "cell_type": "code",
   "execution_count": 86,
   "id": "655a6b00",
   "metadata": {},
   "outputs": [],
   "source": [
    "import pandas as pd \n",
    "import matplotlib.pyplot as plt"
   ]
  },
  {
   "cell_type": "markdown",
   "id": "064c3371",
   "metadata": {},
   "source": [
    "## Actividad 1\n",
    "\n",
    "Se crea el DataFrame cargando el archivo CSV con la funcion \"read_csv\" de pandas y se guarda en la variable \"df\""
   ]
  },
  {
   "cell_type": "code",
   "execution_count": 56,
   "id": "ec728f90",
   "metadata": {},
   "outputs": [],
   "source": [
    "df = pd.read_csv(\"datasets_calificaciones.csv\")"
   ]
  },
  {
   "cell_type": "markdown",
   "id": "d1d870b0",
   "metadata": {},
   "source": [
    "## Actividad 2\n",
    "\n",
    "- Se utilizo la funcion **\"head()\"** para mostrar las primeras filas\n",
    "- Con **\"info()\"** se obtiene un resumen del DataFrame como tl tipo de datos de las columnas y la cantidad de valores no nulos\n",
    "- **\"describe()\"** calcula estadísticas descriptivas de las columnas numéricas"
   ]
  },
  {
   "cell_type": "code",
   "execution_count": 4,
   "id": "ad2f08d3",
   "metadata": {},
   "outputs": [
    {
     "name": "stdout",
     "output_type": "stream",
     "text": [
      "Primeras 5 columnas:\n",
      "\n",
      "        estudiante      Materia Parcial 1 Parcial 2 Final Asistencia\n",
      "0        ana pérez  matematicas         8       7.5     9        95%\n",
      "1     carlos lópez       fisica       6.2         7   NaN        88%\n",
      "2      maría gómez      quimica         9       8.8   9.5       100%\n",
      "3  pedro rodríguez     historia       7.5         6     7         75\n",
      "4     laura vargas  matematicas                 9.2   8.5        92%\n",
      "\n",
      "Tipos de datos y total de valroes nulos:\n",
      "\n",
      "<class 'pandas.core.frame.DataFrame'>\n",
      "RangeIndex: 100 entries, 0 to 99\n",
      "Data columns (total 6 columns):\n",
      " #   Column      Non-Null Count  Dtype \n",
      "---  ------      --------------  ----- \n",
      " 0   estudiante  100 non-null    object\n",
      " 1   Materia     100 non-null    object\n",
      " 2   Parcial 1   95 non-null     object\n",
      " 3   Parcial 2   90 non-null     object\n",
      " 4   Final       89 non-null     object\n",
      " 5   Asistencia  100 non-null    object\n",
      "dtypes: object(6)\n",
      "memory usage: 4.8+ KB\n",
      "None\n",
      "\n",
      "Estadísticas\n",
      "\n"
     ]
    },
    {
     "data": {
      "text/html": [
       "<div>\n",
       "<style scoped>\n",
       "    .dataframe tbody tr th:only-of-type {\n",
       "        vertical-align: middle;\n",
       "    }\n",
       "\n",
       "    .dataframe tbody tr th {\n",
       "        vertical-align: top;\n",
       "    }\n",
       "\n",
       "    .dataframe thead th {\n",
       "        text-align: right;\n",
       "    }\n",
       "</style>\n",
       "<table border=\"1\" class=\"dataframe\">\n",
       "  <thead>\n",
       "    <tr style=\"text-align: right;\">\n",
       "      <th></th>\n",
       "      <th>estudiante</th>\n",
       "      <th>Materia</th>\n",
       "      <th>Parcial 1</th>\n",
       "      <th>Parcial 2</th>\n",
       "      <th>Final</th>\n",
       "      <th>Asistencia</th>\n",
       "    </tr>\n",
       "  </thead>\n",
       "  <tbody>\n",
       "    <tr>\n",
       "      <th>count</th>\n",
       "      <td>100</td>\n",
       "      <td>100</td>\n",
       "      <td>95</td>\n",
       "      <td>90</td>\n",
       "      <td>89</td>\n",
       "      <td>100</td>\n",
       "    </tr>\n",
       "    <tr>\n",
       "      <th>unique</th>\n",
       "      <td>96</td>\n",
       "      <td>7</td>\n",
       "      <td>49</td>\n",
       "      <td>45</td>\n",
       "      <td>46</td>\n",
       "      <td>35</td>\n",
       "    </tr>\n",
       "    <tr>\n",
       "      <th>top</th>\n",
       "      <td>mateo díaz</td>\n",
       "      <td>matematicas</td>\n",
       "      <td></td>\n",
       "      <td>7.5</td>\n",
       "      <td>9.5</td>\n",
       "      <td>99%</td>\n",
       "    </tr>\n",
       "    <tr>\n",
       "      <th>freq</th>\n",
       "      <td>2</td>\n",
       "      <td>25</td>\n",
       "      <td>7</td>\n",
       "      <td>5</td>\n",
       "      <td>4</td>\n",
       "      <td>5</td>\n",
       "    </tr>\n",
       "  </tbody>\n",
       "</table>\n",
       "</div>"
      ],
      "text/plain": [
       "        estudiante      Materia Parcial 1 Parcial 2 Final Asistencia\n",
       "count          100          100        95        90    89        100\n",
       "unique          96            7        49        45    46         35\n",
       "top     mateo díaz  matematicas                 7.5   9.5        99%\n",
       "freq             2           25         7         5     4          5"
      ]
     },
     "execution_count": 4,
     "metadata": {},
     "output_type": "execute_result"
    }
   ],
   "source": [
    "print(\"Primeras 5 columnas:\\n\")\n",
    "print(df.head())\n",
    "\n",
    "print(\"\\nTipos de datos y total de valroes nulos:\\n\")\n",
    "print(df.info())\n",
    "\n",
    "print(\"\\nEstadísticas\\n\")\n",
    "df.describe()"
   ]
  },
  {
   "cell_type": "markdown",
   "id": "05962af3",
   "metadata": {},
   "source": [
    "## Actividad 3\n",
    "\n",
    "1. Se capitalizan los valores de las columnas **\"Estudiante\"** y **\"Materia\"**.\n",
    "\n",
    "2. Con un loop, se transforman en números todos los valores de las columnas **\"Parcial 1\"**, **\"Parcial 2\"** y **\"Final\"**, luego se rellenan los valores nulos con la mediana de la columna.\n",
    "\n",
    "3. Se quita el símbolo de porcentaje de los valores de **\"Asistencia\"** y se guardan otra vez como números enteros, para depués limitar el valor máximo a *100*."
   ]
  },
  {
   "cell_type": "code",
   "execution_count": null,
   "id": "469102c3",
   "metadata": {},
   "outputs": [],
   "source": [
    "\n",
    "df[\"estudiante\"] = df[\"estudiante\"].str.title()\n",
    "df[\"Materia\"] = df[\"Materia\"].str.title()\n",
    "\n",
    "for col in [\"Parcial 1\", \"Parcial 2\", \"Final\"]:\n",
    "    df[col] = pd.to_numeric(df[col], errors=\"coerce\")\n",
    "    df[col] = df[col].fillna(df[col].median())\n",
    "\n",
    "df[\"Asistencia\"] = df[\"Asistencia\"].str.replace('%', '').astype(int)\n",
    "df[\"Asistencia\"] = df[\"Asistencia\"].clip(lower=0, upper=100)"
   ]
  },
  {
   "cell_type": "markdown",
   "id": "d6c8213b",
   "metadata": {},
   "source": [
    "## Actividad 4\n",
    "En el primer bloque de código:\n",
    "- Se utilizan las mismas funciones del punto 2 para mostrar la diferencia entre los datos después del proceso de normalización de datos, se pueden ver cambios como:\n",
    "    - Nombres de estudiantes y materias capitalizados\n",
    "    - Las columnas de notas como \"float\" en lugar de \"object\"\n",
    "    - La columna asistencia sin el símbolo de porcentaje ni valores fuera de lo normal\n",
    "\n",
    "En el segundo bloque de código:\n",
    "- Se crea una nueva columna con los promedios de cada alumno\n",
    "- Se calcula la media de la tabla \"Promedio\" y se agrupa por materia "
   ]
  },
  {
   "cell_type": "code",
   "execution_count": 66,
   "id": "42ee7a31",
   "metadata": {},
   "outputs": [
    {
     "name": "stdout",
     "output_type": "stream",
     "text": [
      "Primeras 5 columnas:\n",
      "\n",
      "        estudiante      Materia  Parcial 1  Parcial 2  Final  Asistencia\n",
      "0        Ana Pérez  Matematicas        8.0        7.5    9.0          95\n",
      "1     Carlos López       Fisica        6.2        7.0    7.8          88\n",
      "2      María Gómez      Quimica        9.0        8.8    9.5         100\n",
      "3  Pedro Rodríguez     Historia        7.5        6.0    7.0          75\n",
      "4     Laura Vargas  Matematicas        7.9        9.2    8.5          92\n",
      "\n",
      "Tipos de datos y total de valroes nulos:\n",
      "\n",
      "<class 'pandas.core.frame.DataFrame'>\n",
      "RangeIndex: 100 entries, 0 to 99\n",
      "Data columns (total 6 columns):\n",
      " #   Column      Non-Null Count  Dtype  \n",
      "---  ------      --------------  -----  \n",
      " 0   estudiante  100 non-null    object \n",
      " 1   Materia     100 non-null    object \n",
      " 2   Parcial 1   100 non-null    float64\n",
      " 3   Parcial 2   100 non-null    float64\n",
      " 4   Final       100 non-null    float64\n",
      " 5   Asistencia  100 non-null    int64  \n",
      "dtypes: float64(3), int64(1), object(2)\n",
      "memory usage: 4.8+ KB\n",
      "None\n",
      "\n",
      "Estadísticas:\n"
     ]
    },
    {
     "data": {
      "text/html": [
       "<div>\n",
       "<style scoped>\n",
       "    .dataframe tbody tr th:only-of-type {\n",
       "        vertical-align: middle;\n",
       "    }\n",
       "\n",
       "    .dataframe tbody tr th {\n",
       "        vertical-align: top;\n",
       "    }\n",
       "\n",
       "    .dataframe thead th {\n",
       "        text-align: right;\n",
       "    }\n",
       "</style>\n",
       "<table border=\"1\" class=\"dataframe\">\n",
       "  <thead>\n",
       "    <tr style=\"text-align: right;\">\n",
       "      <th></th>\n",
       "      <th>Parcial 1</th>\n",
       "      <th>Parcial 2</th>\n",
       "      <th>Final</th>\n",
       "      <th>Asistencia</th>\n",
       "    </tr>\n",
       "  </thead>\n",
       "  <tbody>\n",
       "    <tr>\n",
       "      <th>count</th>\n",
       "      <td>100.0</td>\n",
       "      <td>100.0</td>\n",
       "      <td>100.0</td>\n",
       "      <td>100.0</td>\n",
       "    </tr>\n",
       "    <tr>\n",
       "      <th>mean</th>\n",
       "      <td>7.8</td>\n",
       "      <td>7.8</td>\n",
       "      <td>7.9</td>\n",
       "      <td>88.2</td>\n",
       "    </tr>\n",
       "    <tr>\n",
       "      <th>std</th>\n",
       "      <td>1.1</td>\n",
       "      <td>1.1</td>\n",
       "      <td>1.1</td>\n",
       "      <td>8.4</td>\n",
       "    </tr>\n",
       "    <tr>\n",
       "      <th>min</th>\n",
       "      <td>5.5</td>\n",
       "      <td>5.8</td>\n",
       "      <td>5.7</td>\n",
       "      <td>70.0</td>\n",
       "    </tr>\n",
       "    <tr>\n",
       "      <th>25%</th>\n",
       "      <td>7.1</td>\n",
       "      <td>7.0</td>\n",
       "      <td>7.1</td>\n",
       "      <td>81.8</td>\n",
       "    </tr>\n",
       "    <tr>\n",
       "      <th>50%</th>\n",
       "      <td>7.9</td>\n",
       "      <td>7.7</td>\n",
       "      <td>7.8</td>\n",
       "      <td>88.5</td>\n",
       "    </tr>\n",
       "    <tr>\n",
       "      <th>75%</th>\n",
       "      <td>8.8</td>\n",
       "      <td>8.8</td>\n",
       "      <td>8.8</td>\n",
       "      <td>96.0</td>\n",
       "    </tr>\n",
       "    <tr>\n",
       "      <th>max</th>\n",
       "      <td>9.9</td>\n",
       "      <td>9.9</td>\n",
       "      <td>9.9</td>\n",
       "      <td>100.0</td>\n",
       "    </tr>\n",
       "  </tbody>\n",
       "</table>\n",
       "</div>"
      ],
      "text/plain": [
       "       Parcial 1  Parcial 2  Final  Asistencia\n",
       "count      100.0      100.0  100.0       100.0\n",
       "mean         7.8        7.8    7.9        88.2\n",
       "std          1.1        1.1    1.1         8.4\n",
       "min          5.5        5.8    5.7        70.0\n",
       "25%          7.1        7.0    7.1        81.8\n",
       "50%          7.9        7.7    7.8        88.5\n",
       "75%          8.8        8.8    8.8        96.0\n",
       "max          9.9        9.9    9.9       100.0"
      ]
     },
     "execution_count": 66,
     "metadata": {},
     "output_type": "execute_result"
    }
   ],
   "source": [
    "print(\"Primeras 5 columnas:\\n\")\n",
    "print(df.head())\n",
    "\n",
    "print(\"\\nTipos de datos y total de valroes nulos:\\n\")\n",
    "print(df.info())\n",
    "\n",
    "print(\"\\nEstadísticas:\")\n",
    "df.describe().round(1)"
   ]
  },
  {
   "cell_type": "code",
   "execution_count": 82,
   "id": "0061b2e6",
   "metadata": {},
   "outputs": [
    {
     "name": "stdout",
     "output_type": "stream",
     "text": [
      "         estudiante  Promedio\n",
      "0         Ana Pérez      8.17\n",
      "1      Carlos López      7.00\n",
      "2       María Gómez      9.10\n",
      "3   Pedro Rodríguez      6.83\n",
      "4      Laura Vargas      8.53\n",
      "..              ...       ...\n",
      "95  Josefina Torres      7.13\n",
      "96  Bautista Vargas      8.30\n",
      "97        Emma Soto      6.67\n",
      "98       Mateo Díaz      9.00\n",
      "99  Sofía Fernández      7.40\n",
      "\n",
      "[100 rows x 2 columns]\n",
      "\n",
      "Promedio por materia:\n",
      "Materia\n",
      "Ciencias Sociales       8.80\n",
      "Fisica                  6.68\n",
      "Historia                7.29\n",
      "Literatura Universal    8.00\n",
      "Matematicas             8.26\n",
      "Programacion Basica     6.70\n",
      "Quimica                 9.14\n",
      "Name: Promedio, dtype: float64\n"
     ]
    }
   ],
   "source": [
    "df[\"Promedio\"] = df[[\"Parcial 1\", \"Parcial 2\", \"Final\"]].mean(axis=1).round(2)\n",
    "print(df[[\"estudiante\", \"Promedio\"]])\n",
    "\n",
    "print(\"\\nPromedio por materia:\")\n",
    "print(df.groupby(\"Materia\")[\"Promedio\"].mean().round(2))"
   ]
  },
  {
   "cell_type": "markdown",
   "id": "2c447670",
   "metadata": {},
   "source": [
    "## Actividad 5\n",
    "\n",
    "- **Gráfico 1**: Histograma que muestra la distribución de promedios finales de los estudiantes.\n",
    "- **Gráfico 2**: Dispersión que compara la asistencia con el promedio final.\n",
    "- **Gráfico 3**: Gráfico de barras que muestra el promedio de notas de cada materia\n",
    "\n"
   ]
  },
  {
   "cell_type": "code",
   "execution_count": null,
   "id": "511b16eb",
   "metadata": {},
   "outputs": [
    {
     "data": {
      "image/png": "[encoded data removed]",
      "text/plain": [
       "<Figure size 800x500 with 1 Axes>"
      ]
     },
     "metadata": {},
     "output_type": "display_data"
    }
   ],
   "source": [
    "plt.figure(figsize=(8, 5))\n",
    "plt.hist(df[\"Promedio\"], bins=7, color='lightblue', edgecolor='black', zorder=3  )\n",
    "plt.title(\"Distribución de Promedios Finales\")\n",
    "plt.xlabel(\"Promedio\")\n",
    "plt.ylabel(\"Cantidad de Estudiantes\")\n",
    "plt.grid(axis=\"y\", zorder=0)\n",
    "plt.show()"
   ]
  },
  {
   "cell_type": "code",
   "execution_count": 104,
   "id": "6c264eb9",
   "metadata": {},
   "outputs": [
    {
     "data": {
      "image/png": "[encoded data removed]",
      "text/plain": [
       "<Figure size 800x500 with 1 Axes>"
      ]
     },
     "metadata": {},
     "output_type": "display_data"
    }
   ],
   "source": [
    "plt.figure(figsize=(8, 5))\n",
    "plt.scatter(df[\"Asistencia\"], df[\"Promedio\"], alpha=0.6)\n",
    "plt.title(\"Asistencia vs Promedio Final\")\n",
    "plt.xlabel(\"Asistencia (%)\")\n",
    "plt.ylabel(\"Promedio\")\n",
    "plt.grid(True)\n",
    "plt.show()"
   ]
  },
  {
   "cell_type": "code",
   "execution_count": 124,
   "id": "524ba057",
   "metadata": {},
   "outputs": [
    {
     "data": {
      "image/png": "[encoded data removed]",
      "text/plain": [
       "<Figure size 800x500 with 1 Axes>"
      ]
     },
     "metadata": {},
     "output_type": "display_data"
    }
   ],
   "source": [
    "plt.figure(figsize=(8, 5))\n",
    "df.groupby(\"Materia\")[\"Promedio\"].mean().plot(kind=\"bar\", color='lightblue', edgecolor='black', zorder=3)\n",
    "plt.title(\"Promedio Final por Materia\")\n",
    "plt.xlabel(\"Materia\")\n",
    "plt.ylabel(\"Promedio\")\n",
    "plt.xticks(rotation=45)\n",
    "plt.grid(True, axis='y', zorder=0)\n",
    "plt.tight_layout()\n",
    "plt.show()"
   ]
  }
 ],
 "metadata": {
  "kernelspec": {
   "display_name": "Python 3",
   "language": "python",
   "name": "python3"
  },
  "language_info": {
   "codemirror_mode": {
    "name": "ipython",
    "version": 3
   },
   "file_extension": ".py",
   "mimetype": "text/x-python",
   "name": "python",
   "nbconvert_exporter": "python",
   "pygments_lexer": "ipython3",
   "version": "3.13.3"
  }
 },
 "nbformat": 4,
 "nbformat_minor": 5
}
